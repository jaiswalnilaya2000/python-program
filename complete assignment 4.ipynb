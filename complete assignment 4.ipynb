{
 "cells": [
  {
   "cell_type": "code",
   "execution_count": 21,
   "id": "21dd9455",
   "metadata": {},
   "outputs": [
    {
     "name": "stdout",
     "output_type": "stream",
     "text": [
      "enter the number = 6\n",
      "720\n"
     ]
    }
   ],
   "source": [
    "#Write a Python Program to Find the Factorial of a Number?\n",
    "n = int(input(\"enter the number = \"))\n",
    "factorial = 1\n",
    "if n < 0:\n",
    "    print(\"factorial does not exist\")\n",
    "elif (n==0):\n",
    "    print(\"factorial of 0 is 1\")\n",
    "else:\n",
    "    for i in range (1,n+1):\n",
    "        factorial = factorial*i\n",
    "    print(factorial)\n",
    "    "
   ]
  },
  {
   "cell_type": "code",
   "execution_count": 38,
   "id": "640c0870",
   "metadata": {},
   "outputs": [
    {
     "name": "stdout",
     "output_type": "stream",
     "text": [
      "enter the number = 12\n",
      "12x1 = 12\n",
      "12x2 = 24\n",
      "12x3 = 36\n",
      "12x4 = 48\n",
      "12x5 = 60\n",
      "12x6 = 72\n",
      "12x7 = 84\n",
      "12x8 = 96\n",
      "12x9 = 108\n",
      "12x10 = 120\n"
     ]
    }
   ],
   "source": [
    "#Write a Python Program to Display the multiplication Table?\n",
    "n = int(input(\"enter the number = \"))\n",
    "sum =1\n",
    "if n == 0:\n",
    "    print(\"anything multiplied by zero is zero\")\n",
    "if n>0:\n",
    "    for i in range(1,11):\n",
    "        sum=n*i\n",
    "        \n",
    "        print(\"{}x{} = {}\".format(n,i,sum))\n",
    "        \n"
   ]
  },
  {
   "cell_type": "code",
   "execution_count": 5,
   "id": "f4b2bdcb",
   "metadata": {},
   "outputs": [
    {
     "name": "stdout",
     "output_type": "stream",
     "text": [
      "enter the number of terms  = 12\n",
      "0\n",
      "1\n",
      "1\n",
      "2\n",
      "3\n",
      "5\n",
      "8\n",
      "13\n",
      "21\n",
      "34\n",
      "55\n",
      "89\n"
     ]
    }
   ],
   "source": [
    "#Write a Python Program to Print the Fibonacci sequence?\n",
    "n = int(input(\"enter the number of terms  = \"))\n",
    "num1 = 0\n",
    "num2 = 1\n",
    "sum = 0\n",
    "if n<=0:\n",
    "    print(\"invalid\")\n",
    "if n==1:\n",
    "    print(num1)\n",
    "if n>1:\n",
    "    while sum<n:\n",
    "        print(num1)\n",
    "        abc = num1+num2\n",
    "        num1 = num2 \n",
    "        num2 = abc\n",
    "        sum = sum +1\n",
    "    "
   ]
  },
  {
   "cell_type": "code",
   "execution_count": 21,
   "id": "24b0103c",
   "metadata": {},
   "outputs": [
    {
     "name": "stdout",
     "output_type": "stream",
     "text": [
      "enter the number = 1684\n",
      "not an armstrong number\n"
     ]
    }
   ],
   "source": [
    "#Write a Python Program to Check Armstrong Number?\n",
    "#Armstrong number is a number that is equal to the sum of cubes of its digits.\n",
    "n = int(input(\"enter the number = \"))\n",
    "original=n\n",
    "sum = 0\n",
    "while (n>0):\n",
    "    sum = sum + (n%10)*(n%10)*(n%10)\n",
    "    n=n//10\n",
    "if sum == original:\n",
    "    print(\"armstrong number\")\n",
    "else:\n",
    "    print(\"not an armstrong number\")\n",
    "    \n",
    "    \n",
    "    \n",
    "    \n"
   ]
  },
  {
   "cell_type": "code",
   "execution_count": 7,
   "id": "8d0dd849",
   "metadata": {},
   "outputs": [
    {
     "data": {
      "text/plain": [
       "64"
      ]
     },
     "execution_count": 7,
     "metadata": {},
     "output_type": "execute_result"
    }
   ],
   "source": [
    "#to find cube of any number\n",
    "4**3"
   ]
  },
  {
   "cell_type": "code",
   "execution_count": 11,
   "id": "f25eb299",
   "metadata": {},
   "outputs": [
    {
     "data": {
      "text/plain": [
       "1"
      ]
     },
     "execution_count": 11,
     "metadata": {},
     "output_type": "execute_result"
    }
   ],
   "source": [
    "15//10"
   ]
  },
  {
   "cell_type": "code",
   "execution_count": 12,
   "id": "3b7cc5fc",
   "metadata": {},
   "outputs": [
    {
     "data": {
      "text/plain": [
       "16"
      ]
     },
     "execution_count": 12,
     "metadata": {},
     "output_type": "execute_result"
    }
   ],
   "source": [
    "200//12\n"
   ]
  },
  {
   "cell_type": "code",
   "execution_count": 7,
   "id": "411266e1",
   "metadata": {},
   "outputs": [
    {
     "name": "stdout",
     "output_type": "stream",
     "text": [
      "enter lower bound = 10\n",
      "enter upper bound = 200\n"
     ]
    }
   ],
   "source": [
    "#Write a Python Program to Find Armstrong Number in an Interval?\n",
    "lower = int(input(\"enter lower bound = \"))\n",
    "upper = int(input(\"enter upper bound = \"))\n",
    "for i in range(lower,upper+1):\n",
    "    original=i\n",
    "    sum = 0\n",
    "    while (i>0):\n",
    "        sum = sum + (i%10)*(i%10)*(i%10)\n",
    "        i=i//10\n",
    "if sum == original:\n",
    "    print(sum)\n",
    "\n",
    "    \n",
    "    "
   ]
  },
  {
   "cell_type": "code",
   "execution_count": 2,
   "id": "fdc6f935",
   "metadata": {},
   "outputs": [
    {
     "data": {
      "text/plain": [
       "3"
      ]
     },
     "execution_count": 2,
     "metadata": {},
     "output_type": "execute_result"
    }
   ],
   "source": [
    "len(str(700))"
   ]
  },
  {
   "cell_type": "code",
   "execution_count": 1,
   "id": "082d0f7c",
   "metadata": {},
   "outputs": [
    {
     "name": "stdout",
     "output_type": "stream",
     "text": [
      "Enter a number: 100\n",
      "The sum is 5050\n"
     ]
    }
   ],
   "source": [
    "#Write a Python Program to Find the Sum of Natural Numbers?\n",
    "num = int(input(\"Enter a number: \"))  \n",
    "  \n",
    "if num < 0:  \n",
    "    print(\"Enter a positive number\")  \n",
    "else:  \n",
    "    sum = 0  \n",
    "    \n",
    "    while(num > 0):  \n",
    "        sum += num  \n",
    "        num -= 1  \n",
    "    print(\"The sum is\",sum)  "
   ]
  },
  {
   "cell_type": "code",
   "execution_count": 5,
   "id": "84efcedd",
   "metadata": {},
   "outputs": [
    {
     "name": "stdout",
     "output_type": "stream",
     "text": [
      "Enter a number: 5\n",
      "the sum is 15.0\n"
     ]
    }
   ],
   "source": [
    "##Write a Python Program to Find the Sum of Natural Numbers?\n",
    "n = int(input(\"Enter a number: \")) \n",
    "if n < 0:  \n",
    "    print(\"Enter a positive number\")\n",
    "else:\n",
    "    a = ((n*n)+n )/ 2\n",
    "    print(\"the sum is {}\".format(a))"
   ]
  },
  {
   "cell_type": "code",
   "execution_count": null,
   "id": "13a071d7",
   "metadata": {},
   "outputs": [],
   "source": []
  }
 ],
 "metadata": {
  "kernelspec": {
   "display_name": "Python 3",
   "language": "python",
   "name": "python3"
  },
  "language_info": {
   "codemirror_mode": {
    "name": "ipython",
    "version": 3
   },
   "file_extension": ".py",
   "mimetype": "text/x-python",
   "name": "python",
   "nbconvert_exporter": "python",
   "pygments_lexer": "ipython3",
   "version": "3.8.8"
  }
 },
 "nbformat": 4,
 "nbformat_minor": 5
}
