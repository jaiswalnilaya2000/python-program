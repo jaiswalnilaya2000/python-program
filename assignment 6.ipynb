{
 "cells": [
  {
   "cell_type": "code",
   "execution_count": 2,
   "id": "f6f29323",
   "metadata": {},
   "outputs": [
    {
     "name": "stdout",
     "output_type": "stream",
     "text": [
      "The Zen of Python, by Tim Peters\n",
      "\n",
      "Beautiful is better than ugly.\n",
      "Explicit is better than implicit.\n",
      "Simple is better than complex.\n",
      "Complex is better than complicated.\n",
      "Flat is better than nested.\n",
      "Sparse is better than dense.\n",
      "Readability counts.\n",
      "Special cases aren't special enough to break the rules.\n",
      "Although practicality beats purity.\n",
      "Errors should never pass silently.\n",
      "Unless explicitly silenced.\n",
      "In the face of ambiguity, refuse the temptation to guess.\n",
      "There should be one-- and preferably only one --obvious way to do it.\n",
      "Although that way may not be obvious at first unless you're Dutch.\n",
      "Now is better than never.\n",
      "Although never is often better than *right* now.\n",
      "If the implementation is hard to explain, it's a bad idea.\n",
      "If the implementation is easy to explain, it may be a good idea.\n",
      "Namespaces are one honking great idea -- let's do more of those!\n"
     ]
    }
   ],
   "source": [
    "import this"
   ]
  },
  {
   "cell_type": "code",
   "execution_count": 9,
   "id": "f8cc4715",
   "metadata": {},
   "outputs": [
    {
     "name": "stdout",
     "output_type": "stream",
     "text": [
      "enter the number of terms : 15\n",
      "0\n",
      "1\n",
      "1\n",
      "2\n",
      "3\n",
      "5\n",
      "8\n",
      "13\n",
      "21\n",
      "34\n",
      "55\n",
      "89\n",
      "144\n",
      "233\n",
      "377\n"
     ]
    }
   ],
   "source": [
    "#Write a Python Program to Display Fibonacci Sequence Using Recursion?\n",
    "n = int(input(\"enter the number of terms : \"))\n",
    "def fibo(n):\n",
    "    if n<=0:\n",
    "        return 0\n",
    "    elif n==1:\n",
    "        return 1\n",
    "    else:\n",
    "        return fibo(n-1)+fibo(n-2)\n",
    "for i in range(0,n):\n",
    "    print(fibo(i))"
   ]
  },
  {
   "cell_type": "code",
   "execution_count": 40,
   "id": "05b92e73",
   "metadata": {},
   "outputs": [
    {
     "name": "stdout",
     "output_type": "stream",
     "text": [
      "enter the number : 5\n",
      "factorial of 5 is 120\n"
     ]
    }
   ],
   "source": [
    "#Write a Python Program to Find Factorial of Number Using Recursion?\n",
    "\n",
    "def fact(n):\n",
    "    if n==0 or n==1:\n",
    "        return 1\n",
    "    else:\n",
    "        return n*fact(n-1)\n",
    "n = int(input(\"enter the number : \"))\n",
    "a = fact(n)\n",
    "print(\"factorial of {} is {}\".format(n,a))\n",
    "    "
   ]
  },
  {
   "cell_type": "code",
   "execution_count": 49,
   "id": "6dc2fe31",
   "metadata": {},
   "outputs": [
    {
     "name": "stdout",
     "output_type": "stream",
     "text": [
      "enter the weight in kg : 75\n",
      "enter the height in metres : 1.67\n",
      "BMI Value = 26.89232313815483 \n",
      "overweight\n"
     ]
    }
   ],
   "source": [
    "#Write a Python Program to calculate your Body Mass Index?\n",
    "#A BMI of 25.0 or more is overweight, while the healthy range is 18.5 to 24.9.\n",
    "a = float(input(\"enter the weight in kg : \"))\n",
    "b = float(input(\"enter the height in metres : \"))\n",
    "c = (a) / (b*b)\n",
    "print(\"BMI Value = {} \".format(c))\n",
    "if c<25:\n",
    "    print(\"healthy\")\n",
    "else:\n",
    "    print(\"overweight\")\n"
   ]
  },
  {
   "cell_type": "code",
   "execution_count": 58,
   "id": "6e5402fb",
   "metadata": {},
   "outputs": [
    {
     "name": "stdout",
     "output_type": "stream",
     "text": [
      "enter the number = 4\n",
      "54.575510850575995\n"
     ]
    }
   ],
   "source": [
    "#Write a Python Program to calculate the natural logarithm of any number?\n",
    "import math\n",
    "n = int(input(\"enter the number = \"))\n",
    "a = pow(2.718,n)\n",
    "print(a)"
   ]
  },
  {
   "cell_type": "code",
   "execution_count": 56,
   "id": "dacd4f78",
   "metadata": {},
   "outputs": [
    {
     "data": {
      "text/plain": [
       "25"
      ]
     },
     "execution_count": 56,
     "metadata": {},
     "output_type": "execute_result"
    }
   ],
   "source": [
    "import math\n",
    "pow(5,2)"
   ]
  },
  {
   "cell_type": "code",
   "execution_count": 62,
   "id": "1d4858ba",
   "metadata": {},
   "outputs": [
    {
     "data": {
      "text/plain": [
       "27"
      ]
     },
     "execution_count": 62,
     "metadata": {},
     "output_type": "execute_result"
    }
   ],
   "source": [
    "3**3"
   ]
  },
  {
   "cell_type": "code",
   "execution_count": 63,
   "id": "437a9df2",
   "metadata": {},
   "outputs": [
    {
     "name": "stdout",
     "output_type": "stream",
     "text": [
      "Enter the number you want to find cube sum : 12\n",
      "sum of cube of 12 numbers = 6084.0\n"
     ]
    }
   ],
   "source": [
    "#Write a Python Program for cube sum of first n natural numbers?\n",
    "n = int(input('Enter the number you want to find cube sum : '))\n",
    "a = ((n*(n+1)) / 2)**2\n",
    "print(\"sum of cube of {} numbers = {}\".format(n,a))"
   ]
  },
  {
   "cell_type": "code",
   "execution_count": null,
   "id": "10adfc11",
   "metadata": {},
   "outputs": [],
   "source": []
  }
 ],
 "metadata": {
  "kernelspec": {
   "display_name": "Python 3",
   "language": "python",
   "name": "python3"
  },
  "language_info": {
   "codemirror_mode": {
    "name": "ipython",
    "version": 3
   },
   "file_extension": ".py",
   "mimetype": "text/x-python",
   "name": "python",
   "nbconvert_exporter": "python",
   "pygments_lexer": "ipython3",
   "version": "3.8.8"
  }
 },
 "nbformat": 4,
 "nbformat_minor": 5
}
