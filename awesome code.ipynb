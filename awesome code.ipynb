{
 "cells": [
  {
   "cell_type": "code",
   "execution_count": 2,
   "id": "9de49700",
   "metadata": {},
   "outputs": [
    {
     "name": "stdout",
     "output_type": "stream",
     "text": [
      "  _________\n",
      "| Hi Nilaya |\n",
      "  =========\n",
      "                 \\\n",
      "                  \\\n",
      "                   \\\n",
      "                    \\\n",
      "                     /- _  `-/  '\n",
      "                    (/\\/ \\ \\   /\\\n",
      "                    / /   | `    \\\n",
      "                    O O   ) /    |\n",
      "                    `-^--'`<     '\n",
      "                   (_.)  _  )   /\n",
      "                    `.___/`    /\n",
      "                      `-----' /\n",
      "         <----.     __ / __   \\\n",
      "         <----|====O)))==) \\) /====\n",
      "         <----'    `--' `.__,' \\\n",
      "                      |        |\n",
      "                       \\       /\n",
      "                 ______( (_  / \\______\n",
      "               ,'  ,-----'   |        \\\n",
      "               `--{__________)        \\/\n"
     ]
    }
   ],
   "source": [
    "import cowsay\n",
    "cowsay.daemon(\"Hi Nilaya\")"
   ]
  },
  {
   "cell_type": "code",
   "execution_count": 3,
   "id": "cb0cf4be",
   "metadata": {},
   "outputs": [
    {
     "name": "stdout",
     "output_type": "stream",
     "text": [
      "🤗\n"
     ]
    }
   ],
   "source": [
    "print(\"\\U0001F917\")"
   ]
  },
  {
   "cell_type": "code",
   "execution_count": 5,
   "id": "da544cbf",
   "metadata": {},
   "outputs": [
    {
     "name": "stdout",
     "output_type": "stream",
     "text": [
      "😘\n"
     ]
    }
   ],
   "source": [
    "print(\"\\U0001F618\")"
   ]
  },
  {
   "cell_type": "code",
   "execution_count": 7,
   "id": "c1e0daa5",
   "metadata": {},
   "outputs": [
    {
     "name": "stdout",
     "output_type": "stream",
     "text": [
      "True\n"
     ]
    }
   ],
   "source": [
    "a=\"pythonhub\"\n",
    "b=\"pythonhub\"\n",
    "print(a==b)"
   ]
  },
  {
   "cell_type": "code",
   "execution_count": null,
   "id": "ef25f17f",
   "metadata": {},
   "outputs": [],
   "source": []
  }
 ],
 "metadata": {
  "kernelspec": {
   "display_name": "Python 3",
   "language": "python",
   "name": "python3"
  },
  "language_info": {
   "codemirror_mode": {
    "name": "ipython",
    "version": 3
   },
   "file_extension": ".py",
   "mimetype": "text/x-python",
   "name": "python",
   "nbconvert_exporter": "python",
   "pygments_lexer": "ipython3",
   "version": "3.8.8"
  }
 },
 "nbformat": 4,
 "nbformat_minor": 5
}
