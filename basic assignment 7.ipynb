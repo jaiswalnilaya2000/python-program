{
 "cells": [
  {
   "cell_type": "code",
   "execution_count": 1,
   "id": "d57c5ce8",
   "metadata": {},
   "outputs": [
    {
     "name": "stdout",
     "output_type": "stream",
     "text": [
      "enter the length of array : 5\n",
      "array elements: \n",
      "12\n",
      "45\n",
      "65\n",
      "15\n",
      "75\n",
      "sum =  212\n"
     ]
    }
   ],
   "source": [
    "#Write a Python Program to find sum of array?\n",
    "a=[]\n",
    "n = int(input(\"enter the length of array : \"))\n",
    "print(\"array elements: \")\n",
    "for i in range(n):\n",
    "    b=int(input())\n",
    "    a.append(b)\n",
    "print(\"sum = \",sum(a))"
   ]
  },
  {
   "cell_type": "code",
   "execution_count": 5,
   "id": "9b9cbf30",
   "metadata": {},
   "outputs": [
    {
     "name": "stdout",
     "output_type": "stream",
     "text": [
      "enter the length of array : 4\n",
      "array elements: \n",
      "12\n",
      "54\n",
      "81\n",
      "69\n",
      "largest number  81\n"
     ]
    }
   ],
   "source": [
    "#Write a Python Program to find largest element in an array?\n",
    "a=[]\n",
    "n = int(input(\"enter the length of array : \"))\n",
    "print(\"array elements: \")\n",
    "for i in range(n):\n",
    "    b=int(input())\n",
    "    a.append(b)\n",
    "print(\"largest number \",max(a))"
   ]
  },
  {
   "cell_type": "code",
   "execution_count": 13,
   "id": "c21138a1",
   "metadata": {},
   "outputs": [
    {
     "data": {
      "text/plain": [
       "7"
      ]
     },
     "execution_count": 13,
     "metadata": {},
     "output_type": "execute_result"
    }
   ],
   "source": [
    "a=[1,2,3,4,5,6,7]\n",
    "len(a)"
   ]
  },
  {
   "cell_type": "code",
   "execution_count": 22,
   "id": "4d4ac9de",
   "metadata": {},
   "outputs": [
    {
     "name": "stdout",
     "output_type": "stream",
     "text": [
      "Rotated list is:\n",
      "[3, 4, 5, 6, 1, 2]\n"
     ]
    }
   ],
   "source": [
    "##Write a Python Program for array rotation?\n",
    "def rotateArray(a,d):\n",
    "    n=len(a)\n",
    "    a[:]=a[d:n]+a[0:d]\n",
    "    return a\n",
    "\n",
    "arr = [1, 2, 3, 4, 5, 6]\n",
    "\n",
    "print(\"Rotated list is:\")\n",
    "print(rotateArray(arr,2)) "
   ]
  },
  {
   "cell_type": "code",
   "execution_count": 19,
   "id": "d54cdce6",
   "metadata": {},
   "outputs": [
    {
     "data": {
      "text/plain": [
       "[1, 3, 5]"
      ]
     },
     "execution_count": 19,
     "metadata": {},
     "output_type": "execute_result"
    }
   ],
   "source": [
    "arr = [1, 2, 3, 4, 5, 6]\n",
    "arr[::2]"
   ]
  },
  {
   "cell_type": "code",
   "execution_count": 24,
   "id": "350c5dac",
   "metadata": {},
   "outputs": [
    {
     "data": {
      "text/plain": [
       "10"
      ]
     },
     "execution_count": 24,
     "metadata": {},
     "output_type": "execute_result"
    }
   ],
   "source": [
    "#Write a Python Program to Split the array and add the first part to the end?\n",
    "a=[1,2,3,4,5,6,7,8,9,10]\n",
    "a.pop()"
   ]
  },
  {
   "cell_type": "code",
   "execution_count": 31,
   "id": "6e94f850",
   "metadata": {},
   "outputs": [
    {
     "name": "stdout",
     "output_type": "stream",
     "text": [
      "entee the number of elements to be added to the end :3\n",
      "Output array is [17, 90, 67, 58, 10, 13, 5]\n"
     ]
    }
   ],
   "source": [
    "def split(arr, k):\n",
    "\n",
    "    arr = arr[k:] + arr[:k]\n",
    "\n",
    "    return arr\n",
    "\n",
    "   \n",
    "\n",
    "k = int(input(\"entee the number of elements to be added to the end :\"))\n",
    "\n",
    "arr = [10, 13, 5, 17,90,67,58]\n",
    "\n",
    "print(\"Output array is\", split(arr, k))\n"
   ]
  },
  {
   "cell_type": "code",
   "execution_count": null,
   "id": "22ba1d12",
   "metadata": {},
   "outputs": [],
   "source": [
    "#Write a Python Program to check if given array is Monotonic?\n",
    "def isMonotonic(A):\n",
    "  \n",
    "    return (all(A[i] <= A[i + 1] for i in range(len(A) - 1)) or\n",
    "            all(A[i] >= A[i + 1] for i in range(len(A) - 1)))\n",
    "  \n",
    "\n",
    "A = [6, 5, 4, 4]\n",
    "  \n",
    "\n",
    "print(isMonotonic(A))"
   ]
  }
 ],
 "metadata": {
  "kernelspec": {
   "display_name": "Python 3",
   "language": "python",
   "name": "python3"
  },
  "language_info": {
   "codemirror_mode": {
    "name": "ipython",
    "version": 3
   },
   "file_extension": ".py",
   "mimetype": "text/x-python",
   "name": "python",
   "nbconvert_exporter": "python",
   "pygments_lexer": "ipython3",
   "version": "3.8.8"
  }
 },
 "nbformat": 4,
 "nbformat_minor": 5
}
