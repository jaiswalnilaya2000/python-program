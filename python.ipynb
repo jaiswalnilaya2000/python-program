{
 "cells": [
  {
   "cell_type": "code",
   "execution_count": 1,
   "id": "4220b284",
   "metadata": {},
   "outputs": [
    {
     "name": "stdout",
     "output_type": "stream",
     "text": [
      "1\n",
      "2\n",
      "3\n",
      "4\n",
      "5\n",
      "6\n",
      "7\n",
      "8\n",
      "9\n"
     ]
    }
   ],
   "source": [
    "i=1\n",
    "j=10\n",
    "while i<j:\n",
    "    print(i)\n",
    "    i=i+1"
   ]
  },
  {
   "cell_type": "code",
   "execution_count": 4,
   "id": "52a976eb",
   "metadata": {},
   "outputs": [],
   "source": [
    "i=\"nilaya_jaiswal\""
   ]
  },
  {
   "cell_type": "code",
   "execution_count": 5,
   "id": "d409597f",
   "metadata": {},
   "outputs": [
    {
     "data": {
      "text/plain": [
       "'nilaya_jaiswal'"
      ]
     },
     "execution_count": 5,
     "metadata": {},
     "output_type": "execute_result"
    }
   ],
   "source": [
    "i"
   ]
  },
  {
   "cell_type": "code",
   "execution_count": 6,
   "id": "34e73fee",
   "metadata": {},
   "outputs": [
    {
     "data": {
      "text/plain": [
       "'n'"
      ]
     },
     "execution_count": 6,
     "metadata": {},
     "output_type": "execute_result"
    }
   ],
   "source": [
    "i[0]"
   ]
  },
  {
   "cell_type": "code",
   "execution_count": 7,
   "id": "ecbb2d5c",
   "metadata": {},
   "outputs": [
    {
     "data": {
      "text/plain": [
       "'i'"
      ]
     },
     "execution_count": 7,
     "metadata": {},
     "output_type": "execute_result"
    }
   ],
   "source": [
    "i[1]"
   ]
  },
  {
   "cell_type": "code",
   "execution_count": 11,
   "id": "3f73560b",
   "metadata": {},
   "outputs": [
    {
     "data": {
      "text/plain": [
       "'l'"
      ]
     },
     "execution_count": 11,
     "metadata": {},
     "output_type": "execute_result"
    }
   ],
   "source": [
    "i[13]"
   ]
  },
  {
   "cell_type": "code",
   "execution_count": 15,
   "id": "360382db",
   "metadata": {},
   "outputs": [
    {
     "data": {
      "text/plain": [
       "'il'"
      ]
     },
     "execution_count": 15,
     "metadata": {},
     "output_type": "execute_result"
    }
   ],
   "source": [
    "#i[1:3]"
   ]
  },
  {
   "cell_type": "code",
   "execution_count": 25,
   "id": "3ed01dbf",
   "metadata": {},
   "outputs": [],
   "source": [
    "j=\"my name is sudhanshu\""
   ]
  },
  {
   "cell_type": "code",
   "execution_count": 26,
   "id": "eec7edae",
   "metadata": {},
   "outputs": [
    {
     "data": {
      "text/plain": [
       "'my name is sudhanshu'"
      ]
     },
     "execution_count": 26,
     "metadata": {},
     "output_type": "execute_result"
    }
   ],
   "source": [
    "j"
   ]
  },
  {
   "cell_type": "code",
   "execution_count": 31,
   "id": "ddaabaf7",
   "metadata": {},
   "outputs": [
    {
     "data": {
      "text/plain": [
       "'uhsnahdus si eman ym'"
      ]
     },
     "execution_count": 31,
     "metadata": {},
     "output_type": "execute_result"
    }
   ],
   "source": [
    "j[::-1]"
   ]
  },
  {
   "cell_type": "code",
   "execution_count": 29,
   "id": "7a1c290d",
   "metadata": {},
   "outputs": [
    {
     "data": {
      "text/plain": [
       "'m'"
      ]
     },
     "execution_count": 29,
     "metadata": {},
     "output_type": "execute_result"
    }
   ],
   "source": [
    "j[5]"
   ]
  },
  {
   "cell_type": "code",
   "execution_count": 24,
   "id": "0c8ae316",
   "metadata": {},
   "outputs": [
    {
     "data": {
      "text/plain": [
       "'ai ie'"
      ]
     },
     "execution_count": 24,
     "metadata": {},
     "output_type": "execute_result"
    }
   ],
   "source": [
    "j[14:4:-2]"
   ]
  },
  {
   "cell_type": "code",
   "execution_count": 32,
   "id": "c6c911e6",
   "metadata": {},
   "outputs": [],
   "source": [
    "i='NILAYA JAISWAL'"
   ]
  },
  {
   "cell_type": "code",
   "execution_count": 39,
   "id": "f24339eb",
   "metadata": {},
   "outputs": [
    {
     "name": "stdout",
     "output_type": "stream",
     "text": [
      "NILAYA JAISWAL\n",
      "NILAYA JAISWAL\n",
      "NILAYA JAISWAL\n",
      "NILAYA JAISWAL\n",
      "NILAYA JAISWAL\n",
      "NILAYA JAISWAL\n",
      "NILAYA JAISWAL\n",
      "NILAYA JAISWAL\n",
      "NILAYA JAISWAL\n",
      "NILAYA JAISWAL\n",
      "NILAYA JAISWAL\n",
      "NILAYA JAISWAL\n",
      "NILAYA JAISWAL\n",
      "NILAYA JAISWAL\n"
     ]
    }
   ],
   "source": [
    "\n",
    "for A in i:\n",
    "    print(i)"
   ]
  },
  {
   "cell_type": "code",
   "execution_count": 34,
   "id": "33ba0712",
   "metadata": {},
   "outputs": [
    {
     "data": {
      "text/plain": [
       "'N'"
      ]
     },
     "execution_count": 34,
     "metadata": {},
     "output_type": "execute_result"
    }
   ],
   "source": [
    "i[0]"
   ]
  },
  {
   "cell_type": "code",
   "execution_count": 35,
   "id": "8b603ae3",
   "metadata": {},
   "outputs": [
    {
     "data": {
      "text/plain": [
       "'N'"
      ]
     },
     "execution_count": 35,
     "metadata": {},
     "output_type": "execute_result"
    }
   ],
   "source": [
    "i[-14]"
   ]
  },
  {
   "cell_type": "code",
   "execution_count": 36,
   "id": "5ed10966",
   "metadata": {},
   "outputs": [
    {
     "data": {
      "text/plain": [
       "'NILA'"
      ]
     },
     "execution_count": 36,
     "metadata": {},
     "output_type": "execute_result"
    }
   ],
   "source": [
    "i[-14:-10:1]"
   ]
  },
  {
   "cell_type": "code",
   "execution_count": 40,
   "id": "d67fea3a",
   "metadata": {},
   "outputs": [
    {
     "data": {
      "text/plain": [
       "'NILAYA JAISWAL'"
      ]
     },
     "execution_count": 40,
     "metadata": {},
     "output_type": "execute_result"
    }
   ],
   "source": [
    "i"
   ]
  },
  {
   "cell_type": "code",
   "execution_count": 46,
   "id": "dc79ea44",
   "metadata": {},
   "outputs": [
    {
     "ename": "IndentationError",
     "evalue": "expected an indented block (<ipython-input-46-5cf989750f99>, line 3)",
     "output_type": "error",
     "traceback": [
      "\u001b[1;36m  File \u001b[1;32m\"<ipython-input-46-5cf989750f99>\"\u001b[1;36m, line \u001b[1;32m3\u001b[0m\n\u001b[1;33m    print(i)\u001b[0m\n\u001b[1;37m    ^\u001b[0m\n\u001b[1;31mIndentationError\u001b[0m\u001b[1;31m:\u001b[0m expected an indented block\n"
     ]
    }
   ],
   "source": [
    "for s in i:\n",
    "    if i==L:\n",
    "    print(i)\n",
    "else :\n",
    "    print(\"this is a else condition\")"
   ]
  },
  {
   "cell_type": "code",
   "execution_count": 47,
   "id": "f729ddfe",
   "metadata": {},
   "outputs": [],
   "source": [
    "i=\"my name is nilaya jaiswal\""
   ]
  },
  {
   "cell_type": "code",
   "execution_count": 48,
   "id": "e434f1fe",
   "metadata": {},
   "outputs": [
    {
     "data": {
      "text/plain": [
       "'my name is nilaya jaiswal'"
      ]
     },
     "execution_count": 48,
     "metadata": {},
     "output_type": "execute_result"
    }
   ],
   "source": [
    "i"
   ]
  },
  {
   "cell_type": "code",
   "execution_count": 53,
   "id": "ca58625e",
   "metadata": {},
   "outputs": [
    {
     "name": "stdout",
     "output_type": "stream",
     "text": [
      "my name is nilaya jaiswal\n",
      "my name is nilaya jaiswal\n",
      "my name is nilaya jaiswal\n",
      "my name is nilaya jaiswal\n",
      "my name is nilaya jaiswal\n",
      "my name is nilaya jaiswal\n",
      "my name is nilaya jaiswal\n",
      "my name is nilaya jaiswal\n",
      "my name is nilaya jaiswal\n",
      "my name is nilaya jaiswal\n",
      "my name is nilaya jaiswal\n",
      "my name is nilaya jaiswal\n",
      "my name is nilaya jaiswal\n",
      "my name is nilaya jaiswal\n",
      "my name is nilaya jaiswal\n",
      "my name is nilaya jaiswal\n",
      "my name is nilaya jaiswal\n",
      "my name is nilaya jaiswal\n",
      "my name is nilaya jaiswal\n",
      "my name is nilaya jaiswal\n",
      "my name is nilaya jaiswal\n",
      "my name is nilaya jaiswal\n",
      "my name is nilaya jaiswal\n",
      "my name is nilaya jaiswal\n",
      "my name is nilaya jaiswal\n"
     ]
    }
   ],
   "source": [
    "for s in i:\n",
    "    if i==\"a\":\n",
    "        break\n",
    "    else:\n",
    "        print(i)"
   ]
  },
  {
   "cell_type": "code",
   "execution_count": 63,
   "id": "f1844b5b",
   "metadata": {},
   "outputs": [],
   "source": [
    "n = 7\n",
    "for i in range(n, 0):\n",
    "    for j in range(i+1, 0):\n",
    "        print(\"* \", end = \"\")\n",
    "    print(\"\\r\")"
   ]
  },
  {
   "cell_type": "code",
   "execution_count": 69,
   "id": "203df495",
   "metadata": {},
   "outputs": [
    {
     "name": "stdout",
     "output_type": "stream",
     "text": [
      "* \r\n",
      "* * \r\n",
      "* * * \r\n",
      "* * * * \r\n",
      "* * * * * \r\n",
      "* * * * * * \r\n",
      "* * * * * * * \r\n"
     ]
    }
   ],
   "source": [
    "n = 7\n",
    "for i in range(0, n):\n",
    "    for j in range(0, i+1):\n",
    "        print(\"* \", end = \"\")\n",
    "    print(\"\\r\")"
   ]
  },
  {
   "cell_type": "code",
   "execution_count": 72,
   "id": "4a3bf86a",
   "metadata": {},
   "outputs": [
    {
     "name": "stdout",
     "output_type": "stream",
     "text": [
      "        * \n",
      "       * * \n",
      "      * * * \n",
      "     * * * * \n",
      "    * * * * * \n",
      "   * * * * * * \n",
      "  * * * * * * * \n",
      " * * * * * * * * \n",
      "* * * * * * * * * \n"
     ]
    }
   ],
   "source": [
    "n=9\n",
    "i=0\n",
    "while i<n:\n",
    "    print(\" \"*(n-i-1) + \"* \"*(i+1))\n",
    "    i=i+1"
   ]
  },
  {
   "cell_type": "code",
   "execution_count": 73,
   "id": "a0d956b5",
   "metadata": {},
   "outputs": [],
   "source": [
    "\n",
    "l=[\"adjnnf\", 255155, \"ierjfjeirfi\"]"
   ]
  },
  {
   "cell_type": "code",
   "execution_count": 74,
   "id": "1f88570e",
   "metadata": {},
   "outputs": [
    {
     "data": {
      "text/plain": [
       "['adjnnf', 255155, 'ierjfjeirfi']"
      ]
     },
     "execution_count": 74,
     "metadata": {},
     "output_type": "execute_result"
    }
   ],
   "source": [
    "l\n"
   ]
  },
  {
   "cell_type": "code",
   "execution_count": 75,
   "id": "dbb5e745",
   "metadata": {},
   "outputs": [
    {
     "data": {
      "text/plain": [
       "'adjnnf'"
      ]
     },
     "execution_count": 75,
     "metadata": {},
     "output_type": "execute_result"
    }
   ],
   "source": [
    "l[0]"
   ]
  },
  {
   "cell_type": "code",
   "execution_count": 76,
   "id": "07b91036",
   "metadata": {},
   "outputs": [
    {
     "data": {
      "text/plain": [
       "255155"
      ]
     },
     "execution_count": 76,
     "metadata": {},
     "output_type": "execute_result"
    }
   ],
   "source": [
    "l[1]"
   ]
  },
  {
   "cell_type": "code",
   "execution_count": 77,
   "id": "3fae2469",
   "metadata": {},
   "outputs": [
    {
     "data": {
      "text/plain": [
       "'ierjfjeirfi'"
      ]
     },
     "execution_count": 77,
     "metadata": {},
     "output_type": "execute_result"
    }
   ],
   "source": [
    "l[2]"
   ]
  },
  {
   "cell_type": "code",
   "execution_count": 78,
   "id": "437acbe0",
   "metadata": {},
   "outputs": [
    {
     "data": {
      "text/plain": [
       "list"
      ]
     },
     "execution_count": 78,
     "metadata": {},
     "output_type": "execute_result"
    }
   ],
   "source": [
    "type(l)"
   ]
  },
  {
   "cell_type": "code",
   "execution_count": 79,
   "id": "1f0912c7",
   "metadata": {},
   "outputs": [
    {
     "ename": "NameError",
     "evalue": "name 'l1' is not defined",
     "output_type": "error",
     "traceback": [
      "\u001b[1;31m---------------------------------------------------------------------------\u001b[0m",
      "\u001b[1;31mNameError\u001b[0m                                 Traceback (most recent call last)",
      "\u001b[1;32m<ipython-input-79-03e1e1648aae>\u001b[0m in \u001b[0;36m<module>\u001b[1;34m\u001b[0m\n\u001b[1;32m----> 1\u001b[1;33m \u001b[0mtype\u001b[0m\u001b[1;33m(\u001b[0m\u001b[0ml1\u001b[0m\u001b[1;33m)\u001b[0m\u001b[1;33m\u001b[0m\u001b[1;33m\u001b[0m\u001b[0m\n\u001b[0m",
      "\u001b[1;31mNameError\u001b[0m: name 'l1' is not defined"
     ]
    }
   ],
   "source": [
    "type(l1)"
   ]
  },
  {
   "cell_type": "code",
   "execution_count": 80,
   "id": "75fd075d",
   "metadata": {},
   "outputs": [
    {
     "data": {
      "text/plain": [
       "range(1, 5)"
      ]
     },
     "execution_count": 80,
     "metadata": {},
     "output_type": "execute_result"
    }
   ],
   "source": [
    "range(1,5)"
   ]
  },
  {
   "cell_type": "code",
   "execution_count": 82,
   "id": "b304bd87",
   "metadata": {},
   "outputs": [
    {
     "name": "stdout",
     "output_type": "stream",
     "text": [
      "1\n",
      "2\n",
      "3\n",
      "4\n",
      "5\n",
      "6\n",
      "7\n",
      "8\n",
      "9\n"
     ]
    }
   ],
   "source": [
    "for i in range(1,10):\n",
    "    print(i)"
   ]
  },
  {
   "cell_type": "code",
   "execution_count": 85,
   "id": "f13dad5b",
   "metadata": {},
   "outputs": [
    {
     "data": {
      "text/plain": [
       "23"
      ]
     },
     "execution_count": 85,
     "metadata": {},
     "output_type": "execute_result"
    }
   ],
   "source": [
    "bacon=22\n",
    "bacon+1"
   ]
  },
  {
   "cell_type": "code",
   "execution_count": 89,
   "id": "4a35167a",
   "metadata": {},
   "outputs": [
    {
     "name": "stdout",
     "output_type": "stream",
     "text": [
      "nilaya_jaiswal"
     ]
    }
   ],
   "source": [
    "s=\"nilaya_jaiswal\"\n",
    "for i in s:\n",
    "    print(i,end=\"\")"
   ]
  },
  {
   "cell_type": "code",
   "execution_count": 3,
   "id": "3283999e",
   "metadata": {},
   "outputs": [
    {
     "ename": "TypeError",
     "evalue": "'str' object does not support item assignment",
     "output_type": "error",
     "traceback": [
      "\u001b[1;31m---------------------------------------------------------------------------\u001b[0m",
      "\u001b[1;31mTypeError\u001b[0m                                 Traceback (most recent call last)",
      "\u001b[1;32m<ipython-input-3-9b8227d4f863>\u001b[0m in \u001b[0;36m<module>\u001b[1;34m\u001b[0m\n\u001b[0;32m      1\u001b[0m \u001b[0ma\u001b[0m\u001b[1;33m=\u001b[0m\u001b[1;34m\"NILAY JAISWAL\"\u001b[0m\u001b[1;33m\u001b[0m\u001b[1;33m\u001b[0m\u001b[0m\n\u001b[1;32m----> 2\u001b[1;33m \u001b[0ma\u001b[0m\u001b[1;33m[\u001b[0m\u001b[1;36m0\u001b[0m\u001b[1;33m]\u001b[0m\u001b[1;33m=\u001b[0m\u001b[1;34m\"s\"\u001b[0m\u001b[1;33m\u001b[0m\u001b[1;33m\u001b[0m\u001b[0m\n\u001b[0m\u001b[0;32m      3\u001b[0m \u001b[0mprint\u001b[0m\u001b[1;33m(\u001b[0m\u001b[0ma\u001b[0m\u001b[1;33m)\u001b[0m\u001b[1;33m\u001b[0m\u001b[1;33m\u001b[0m\u001b[0m\n",
      "\u001b[1;31mTypeError\u001b[0m: 'str' object does not support item assignment"
     ]
    }
   ],
   "source": []
  },
  {
   "cell_type": "code",
   "execution_count": 91,
   "id": "7e85898d",
   "metadata": {},
   "outputs": [
    {
     "name": "stdout",
     "output_type": "stream",
     "text": [
      "enter the number=20\n",
      "0\n",
      "1\n",
      "2\n",
      "3\n",
      "4\n",
      "5\n",
      "6\n",
      "7\n",
      "8\n",
      "9\n",
      "10\n",
      "11\n",
      "12\n",
      "13\n",
      "14\n",
      "15\n",
      "16\n",
      "17\n",
      "18\n",
      "19\n",
      "invalid\n"
     ]
    }
   ],
   "source": [
    "s=int(input(\"enter the number=\"))\n",
    "i=0\n",
    "while i<s:\n",
    "    print(i)\n",
    "    i=i+1\n",
    "else:\n",
    "    print(\"invalid\")\n",
    "    "
   ]
  },
  {
   "cell_type": "code",
   "execution_count": 97,
   "id": "426d3c92",
   "metadata": {},
   "outputs": [
    {
     "name": "stdout",
     "output_type": "stream",
     "text": [
      "\r\n",
      "\r\n",
      "\r\n",
      "\r\n",
      "\r\n",
      "\r\n",
      "\r\n",
      "\r\n",
      "\r\n",
      "\r\n"
     ]
    }
   ],
   "source": [
    "a=10\n",
    "b=9\n",
    "for i in range(0,a):\n",
    "    for j in range(b-1,0):\n",
    "        print(\"*\",end=\"\")\n",
    "    print(\"\\r\")"
   ]
  },
  {
   "cell_type": "code",
   "execution_count": 106,
   "id": "b01b8f50",
   "metadata": {},
   "outputs": [
    {
     "name": "stdout",
     "output_type": "stream",
     "text": [
      "enter the number=10\n",
      "sum is =\n",
      "0\n",
      "sum is =\n",
      "1\n",
      "sum is =\n",
      "2\n",
      "sum is =\n",
      "3\n",
      "sum is =\n",
      "4\n",
      "sum is =\n",
      "5\n",
      "sum is =\n",
      "6\n",
      "sum is =\n",
      "7\n",
      "sum is =\n",
      "8\n",
      "sum is =\n",
      "9\n",
      "sum is =\n",
      "10\n"
     ]
    }
   ],
   "source": [
    "n=int(input(\"enter the number=\"))\n",
    "a=10\n",
    "sum=0\n",
    "while sum<=a:\n",
    "    print (\"sum is =\")\n",
    "    print(sum)\n",
    "    sum = sum+1"
   ]
  },
  {
   "cell_type": "code",
   "execution_count": 107,
   "id": "74ef55f5",
   "metadata": {},
   "outputs": [
    {
     "name": "stdout",
     "output_type": "stream",
     "text": [
      "The sum is 55\n"
     ]
    }
   ],
   "source": [
    "# n = int(input(\"Enter n: \"))\n",
    "\n",
    "n = 10\n",
    "\n",
    "# initialize sum and counter\n",
    "sum = 0\n",
    "i = 1\n",
    "\n",
    "while i <= n:\n",
    "    sum = sum + i\n",
    "    i = i+1    # update counter\n",
    "\n",
    "# print the sum\n",
    "print(\"The sum is\", sum)"
   ]
  },
  {
   "cell_type": "code",
   "execution_count": 112,
   "id": "e766b459",
   "metadata": {},
   "outputs": [
    {
     "name": "stdout",
     "output_type": "stream",
     "text": [
      "enter the number=5\n",
      "0 1 2 3 4 5 "
     ]
    }
   ],
   "source": [
    "n=int(input(\"enter the number=\"))\n",
    "i=0\n",
    "while i<=n:\n",
    "    print(i,end=(\" \"))\n",
    "    i=i+1"
   ]
  },
  {
   "cell_type": "code",
   "execution_count": 113,
   "id": "f2a3e5d3",
   "metadata": {},
   "outputs": [
    {
     "name": "stdout",
     "output_type": "stream",
     "text": [
      "Enter the number:5\n",
      "5 X 1 = 5 \n",
      "\n",
      "5 X 2 = 10 \n",
      "\n",
      "5 X 3 = 15 \n",
      "\n",
      "5 X 4 = 20 \n",
      "\n",
      "5 X 5 = 25 \n",
      "\n",
      "5 X 6 = 30 \n",
      "\n",
      "5 X 7 = 35 \n",
      "\n",
      "5 X 8 = 40 \n",
      "\n",
      "5 X 9 = 45 \n",
      "\n",
      "5 X 10 = 50 \n",
      "\n"
     ]
    }
   ],
   "source": [
    "i=1    \n",
    "number=0    \n",
    "b=9    \n",
    "number = int(input(\"Enter the number:\"))    \n",
    "while i<=10:    \n",
    "    print(\"%d X %d = %d \\n\"%(number,i,number*i))    \n",
    "    i = i+1"
   ]
  },
  {
   "cell_type": "code",
   "execution_count": 119,
   "id": "246e6c34",
   "metadata": {},
   "outputs": [
    {
     "name": "stdout",
     "output_type": "stream",
     "text": [
      "enter the number = 5\n",
      "5 x 0 = 0\n",
      "5 x 1 = 5\n",
      "5 x 2 = 10\n",
      "5 x 3 = 15\n",
      "5 x 4 = 20\n",
      "5 x 5 = 25\n"
     ]
    }
   ],
   "source": [
    "n=int(input(\"enter the number = \"))\n",
    "i=0\n",
    "while i<=n:\n",
    "    print(\"%d x %d = %d\"%(n,i,n*i))\n",
    "    i=i+1\n"
   ]
  },
  {
   "cell_type": "code",
   "execution_count": null,
   "id": "2f901719",
   "metadata": {},
   "outputs": [],
   "source": [
    "n=int(input(\"enter the number=\"))\n",
    "i=0\n",
    "while i<=n:\n",
    "    print(\"\"*)"
   ]
  },
  {
   "cell_type": "code",
   "execution_count": null,
   "id": "d73f0eff",
   "metadata": {},
   "outputs": [],
   "source": []
  }
 ],
 "metadata": {
  "kernelspec": {
   "display_name": "Python 3",
   "language": "python",
   "name": "python3"
  },
  "language_info": {
   "codemirror_mode": {
    "name": "ipython",
    "version": 3
   },
   "file_extension": ".py",
   "mimetype": "text/x-python",
   "name": "python",
   "nbconvert_exporter": "python",
   "pygments_lexer": "ipython3",
   "version": "3.8.8"
  }
 },
 "nbformat": 4,
 "nbformat_minor": 5
}
