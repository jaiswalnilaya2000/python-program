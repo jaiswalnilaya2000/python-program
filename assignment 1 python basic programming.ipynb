{
 "cells": [
  {
   "cell_type": "code",
   "execution_count": 1,
   "id": "19a03c6e",
   "metadata": {},
   "outputs": [
    {
     "name": "stdout",
     "output_type": "stream",
     "text": [
      "HELLO PYTHON\n"
     ]
    }
   ],
   "source": [
    "#Write a Python program to print Hello Python.\n",
    "print(\"HELLO PYTHON\")"
   ]
  },
  {
   "cell_type": "code",
   "execution_count": 25,
   "id": "0ac2da95",
   "metadata": {},
   "outputs": [
    {
     "name": "stdout",
     "output_type": "stream",
     "text": [
      "enter num 1=20\n",
      "enter num 2=40\n",
      "SUM = 60.0\n",
      "DIFFERENCE = 20.0\n",
      "PRODUCT= 800.0\n",
      "QUOTIENT=0.5\n"
     ]
    }
   ],
   "source": [
    "#Write a Python program to do arithmetical operations addition and division.\n",
    "a=float(input(\"enter num 1=\"))\n",
    "b=float(input(\"enter num 2=\"))\n",
    "print(\"SUM = {}\" .format(a+b))\n",
    "if a>b:\n",
    "    print(\"DIFFERENCE = {}\".format(a-b))\n",
    "if b>a:\n",
    "        print(\"DIFFERENCE = {}\".format(b-a))\n",
    "print(\"PRODUCT= {}\".format(a*b))\n",
    "\n",
    "print(\"QUOTIENT={}\".format(a/b))\n",
    "\n",
    "\n",
    "        \n",
    "\n"
   ]
  },
  {
   "cell_type": "code",
   "execution_count": 2,
   "id": "16a84cab",
   "metadata": {},
   "outputs": [
    {
     "name": "stdout",
     "output_type": "stream",
     "text": [
      "length = 10\n",
      "breadth = 45\n",
      "height= 7\n",
      "AREA OF TRIANGLE = 3150\n"
     ]
    }
   ],
   "source": [
    "#Write a Python program to find the area of a triangle?\n",
    "l=int(input(\"length = \"))\n",
    "b=int(input(\"breadth = \"))\n",
    "h=int(input(\"height= \"))\n",
    "print(\"AREA OF TRIANGLE = {}\".format(l*b*h))"
   ]
  },
  {
   "cell_type": "code",
   "execution_count": 10,
   "id": "b5fe22cf",
   "metadata": {},
   "outputs": [
    {
     "name": "stdout",
     "output_type": "stream",
     "text": [
      "The value of x after swapping: 10\n",
      "The value of y after swapping: 5\n"
     ]
    }
   ],
   "source": [
    "# Python program to swap two variables\n",
    "\n",
    "x = 5\n",
    "y = 10\n",
    "\n",
    "\n",
    "temp = x\n",
    "x = y\n",
    "y = temp\n",
    "\n",
    "print('The value of x after swapping: {}'.format(x))\n",
    "print('The value of y after swapping: {}'.format(y))\n"
   ]
  },
  {
   "cell_type": "code",
   "execution_count": 11,
   "id": "27357f53",
   "metadata": {},
   "outputs": [
    {
     "name": "stdout",
     "output_type": "stream",
     "text": [
      "enter a random number = 10\n",
      "your random number is 10\n"
     ]
    }
   ],
   "source": [
    "#Write a Python program to generate a random number\n",
    "i=int(input(\"enter a random number = \"))\n",
    "print(\"your random number is {}\".format(i))"
   ]
  },
  {
   "cell_type": "code",
   "execution_count": null,
   "id": "e2c3ddd4",
   "metadata": {},
   "outputs": [],
   "source": []
  }
 ],
 "metadata": {
  "kernelspec": {
   "display_name": "Python 3",
   "language": "python",
   "name": "python3"
  },
  "language_info": {
   "codemirror_mode": {
    "name": "ipython",
    "version": 3
   },
   "file_extension": ".py",
   "mimetype": "text/x-python",
   "name": "python",
   "nbconvert_exporter": "python",
   "pygments_lexer": "ipython3",
   "version": "3.8.8"
  }
 },
 "nbformat": 4,
 "nbformat_minor": 5
}
