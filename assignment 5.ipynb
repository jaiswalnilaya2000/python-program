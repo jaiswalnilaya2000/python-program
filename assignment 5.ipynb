{
 "cells": [
  {
   "cell_type": "code",
   "execution_count": 5,
   "id": "8e7c59e5",
   "metadata": {},
   "outputs": [
    {
     "name": "stdout",
     "output_type": "stream",
     "text": [
      "enter first number = 15\n",
      "enter second number = 40\n",
      "120\n"
     ]
    }
   ],
   "source": [
    "#Write a Python Program to Find LCM of two numbers?\n",
    "a = int(input(\"enter first number = \"))\n",
    "b = int(input(\"enter second number = \"))\n",
    "for i in range(1,a*b+1):\n",
    "    if(i%a==0 and i%b==0):\n",
    "        print(i)\n",
    "        break\n"
   ]
  },
  {
   "cell_type": "code",
   "execution_count": 8,
   "id": "6203c26f",
   "metadata": {},
   "outputs": [
    {
     "name": "stdout",
     "output_type": "stream",
     "text": [
      "enter first number = 25\n",
      "enter second number = 15\n",
      "5\n"
     ]
    }
   ],
   "source": [
    "#Write a Python Program to Find HCF?\n",
    "a = int(input(\"enter first number = \"))\n",
    "b = int(input(\"enter second number = \"))\n",
    "while a%b!=0:\n",
    "    rem = a%b\n",
    "    a = b\n",
    "    b = rem\n",
    "print(b)"
   ]
  },
  {
   "cell_type": "code",
   "execution_count": 9,
   "id": "cf4c7372",
   "metadata": {},
   "outputs": [
    {
     "data": {
      "text/plain": [
       "'0b11001'"
      ]
     },
     "execution_count": 9,
     "metadata": {},
     "output_type": "execute_result"
    }
   ],
   "source": [
    "#Write a Python Program to Convert Decimal to Binary, Octal and Hexadecimal?\n",
    "bin(25)"
   ]
  },
  {
   "cell_type": "code",
   "execution_count": 10,
   "id": "cb3ae342",
   "metadata": {},
   "outputs": [
    {
     "data": {
      "text/plain": [
       "'0o31'"
      ]
     },
     "execution_count": 10,
     "metadata": {},
     "output_type": "execute_result"
    }
   ],
   "source": [
    "oct(25)"
   ]
  },
  {
   "cell_type": "code",
   "execution_count": 11,
   "id": "c36c1a86",
   "metadata": {},
   "outputs": [
    {
     "data": {
      "text/plain": [
       "'0x19'"
      ]
     },
     "execution_count": 11,
     "metadata": {},
     "output_type": "execute_result"
    }
   ],
   "source": [
    "hex(25)"
   ]
  },
  {
   "cell_type": "code",
   "execution_count": 12,
   "id": "9fc647ce",
   "metadata": {},
   "outputs": [
    {
     "name": "stdout",
     "output_type": "stream",
     "text": [
      "enter number = 25\n",
      "0b11001 in binary.\n",
      "0o31 in octal.\n",
      "0x19 in hexadecimal.\n"
     ]
    }
   ],
   "source": [
    "dec = int(input(\"enter number = \"))\n",
    "print(bin(dec), \"in binary.\")\n",
    "print(oct(dec), \"in octal.\")\n",
    "print(hex(dec), \"in hexadecimal.\")"
   ]
  },
  {
   "cell_type": "code",
   "execution_count": 17,
   "id": "5e445185",
   "metadata": {},
   "outputs": [
    {
     "name": "stdout",
     "output_type": "stream",
     "text": [
      "enter a character = I\n",
      "the ASCII value of I is 73\n"
     ]
    }
   ],
   "source": [
    "#Write a Python Program To Find ASCII value of a character?\n",
    "a = str(input(\"enter a character = \"))\n",
    "print(\"the ASCII value of {} is {}\".format(a,ord(a)))"
   ]
  },
  {
   "cell_type": "code",
   "execution_count": 23,
   "id": "1b3cff30",
   "metadata": {},
   "outputs": [
    {
     "name": "stdout",
     "output_type": "stream",
     "text": [
      "Enter your first number: 10\n",
      "Enter your second number: 42\n",
      "enter the operator: +\n",
      "10 + 42 = \n",
      "52\n"
     ]
    }
   ],
   "source": [
    "#Write a Python Program to Make a Simple Calculator with 4 basic mathematical operations?\n",
    "num_1 = int(input('Enter your first number: '))\n",
    "num_2 = int(input('Enter your second number: '))\n",
    "choice = input(\"enter the operator: \")\n",
    "if choice == '+':\n",
    "    print('{} + {} = '.format(num_1, num_2))\n",
    "    print(num_1 + num_2)\n",
    " \n",
    "elif choice == '-':\n",
    "    print('{} - {} = '.format(num_1, num_2))\n",
    "    print(num_1 - num_2)\n",
    " \n",
    "elif choice == '*':\n",
    "    print('{} * {} = '.format(num_1, num_2))\n",
    "    print(num_1 * num_2)\n",
    "    \n",
    " \n",
    "elif choice == '/':\n",
    "    print('{} / {} = '.format(num_1, num_2))\n",
    "    print(num_1 / num_2)\n",
    " \n",
    "else:\n",
    "    print('Enter a valid operator, please run the program again.')"
   ]
  },
  {
   "cell_type": "code",
   "execution_count": null,
   "id": "9da59a8c",
   "metadata": {},
   "outputs": [],
   "source": []
  }
 ],
 "metadata": {
  "kernelspec": {
   "display_name": "Python 3",
   "language": "python",
   "name": "python3"
  },
  "language_info": {
   "codemirror_mode": {
    "name": "ipython",
    "version": 3
   },
   "file_extension": ".py",
   "mimetype": "text/x-python",
   "name": "python",
   "nbconvert_exporter": "python",
   "pygments_lexer": "ipython3",
   "version": "3.8.8"
  }
 },
 "nbformat": 4,
 "nbformat_minor": 5
}
