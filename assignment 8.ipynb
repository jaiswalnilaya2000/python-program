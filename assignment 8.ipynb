{
 "cells": [
  {
   "cell_type": "code",
   "execution_count": 3,
   "id": "595dd8d8",
   "metadata": {},
   "outputs": [
    {
     "name": "stdout",
     "output_type": "stream",
     "text": [
      "enter number of rows in first matrix: 3\n",
      "enter number of columns in first matrix: 3\n",
      "enter number of rows in second matrix: 3\n",
      "enter number of rows in second  matrix: 3\n",
      "\n",
      "enter 9 elements of first matrix : \n",
      "1\n",
      "2\n",
      "3\n",
      "4\n",
      "5\n",
      "6\n",
      "7\n",
      "8\n",
      "9\n",
      "\n",
      "Enter 9 Elements for Second Matrix: \n",
      "9\n",
      "8\n",
      "7\n",
      "6\n",
      "5\n",
      "4\n",
      "3\n",
      "2\n",
      "1\n",
      "RESULT = \n",
      "10  10  10  \n",
      "10  10  10  \n",
      "10  10  10  \n"
     ]
    }
   ],
   "source": [
    "#Write a Python Program to Add Two Matrices?\n",
    "m = int(input(\"enter number of rows in first matrix: \"))\n",
    "n=int(input(\"enter number of columns in first matrix: \"))\n",
    "a = int(input(\"enter number of rows in second matrix: \"))\n",
    "b=int(input(\"enter number of rows in second  matrix: \"))\n",
    "if n == a:\n",
    "    print(\"\\nenter \" +str(m*n) +\" elements of first matrix : \")\n",
    "    matOne = []\n",
    "    for i in range(m):\n",
    "        matOne.append([])\n",
    "        for j in range(n):\n",
    "            num = int(input())\n",
    "            matOne[i].append(num)\n",
    "            \n",
    "    matTwo = []\n",
    "    print(\"\\nEnter \" +str(m*n)+ \" Elements for Second Matrix: \")\n",
    "    for i in range(a):\n",
    "        matTwo.append([])\n",
    "        for j in range(b):\n",
    "            x = int(input())\n",
    "            matTwo[i].append(x)\n",
    "    matThree = []\n",
    "    for i in range(m):\n",
    "        matThree.append([])\n",
    "        for j in range(b):\n",
    "            matThree[i].append(matOne[i][j]+matTwo[i][j])\n",
    "    print(\"RESULT = \")\n",
    "    for i in range(m):\n",
    "        for j in range(n):\n",
    "             print(matThree[i][j], end=\"  \")\n",
    "        print()\n",
    "else:\n",
    "    print(\"\\ndimension errror\\n\")\n",
    "            \n",
    "    \n",
    "            \n",
    "            \n",
    "    \n",
    "        \n",
    "            "
   ]
  },
  {
   "cell_type": "code",
   "execution_count": 4,
   "id": "59a86d1c",
   "metadata": {},
   "outputs": [
    {
     "name": "stdout",
     "output_type": "stream",
     "text": [
      "enter number of rows in first matrix: 2\n",
      "enter number of columns in first matrix: 2\n",
      "enter number of rows in second matrix: 2\n",
      "enter number of rows in second  matrix: 2\n",
      "\n",
      "enter 4 elements of first matrix : \n",
      "1\n",
      "2\n",
      "3\n",
      "4\n",
      "\n",
      "Enter 4 Elements for Second Matrix: \n",
      "5\n",
      "6\n",
      "7\n",
      "8\n",
      "RESULT = \n",
      "5  12  \n",
      "21  32  \n"
     ]
    }
   ],
   "source": [
    "#Write a Python Program to Multiply Two Matrices?\n",
    "m = int(input(\"enter number of rows in first matrix: \"))\n",
    "n=int(input(\"enter number of columns in first matrix: \"))\n",
    "a = int(input(\"enter number of rows in second matrix: \"))\n",
    "b=int(input(\"enter number of rows in second  matrix: \"))\n",
    "if n == a:\n",
    "    print(\"\\nenter \" +str(m*n) +\" elements of first matrix : \")\n",
    "    matOne = []\n",
    "    for i in range(m):\n",
    "        matOne.append([])\n",
    "        for j in range(n):\n",
    "            num = int(input())\n",
    "            matOne[i].append(num)\n",
    "            \n",
    "    matTwo = []\n",
    "    print(\"\\nEnter \" +str(m*n)+ \" Elements for Second Matrix: \")\n",
    "    for i in range(a):\n",
    "        matTwo.append([])\n",
    "        for j in range(b):\n",
    "            x = int(input())\n",
    "            matTwo[i].append(x)\n",
    "    matThree = []\n",
    "    for i in range(m):\n",
    "        matThree.append([])\n",
    "        for j in range(b):\n",
    "            matThree[i].append(matOne[i][j]*matTwo[i][j])\n",
    "    print(\"RESULT = \")\n",
    "    for i in range(m):\n",
    "        for j in range(n):\n",
    "             print(matThree[i][j], end=\"  \")\n",
    "        print()\n",
    "else:\n",
    "    print(\"\\ndimension errror\\n\")"
   ]
  },
  {
   "cell_type": "code",
   "execution_count": 14,
   "id": "fc69bb81",
   "metadata": {},
   "outputs": [
    {
     "name": "stdout",
     "output_type": "stream",
     "text": [
      "Enter number of rows: 3\n",
      "Enter number of columns: 3\n",
      "Enter the element: 1\n",
      "Enter the element: 2\n",
      "Enter the element: 3\n",
      "Enter the element: 4\n",
      "Enter the element: 5\n",
      "Enter the element: 6\n",
      "Enter the element: 7\n",
      "Enter the element: 8\n",
      "Enter the element: 9\n",
      "Input matrix: \n",
      "1 2 3 \n",
      "4 5 6 \n",
      "7 8 9 \n",
      "Transpose matrix: \n",
      "1 4 7 \n",
      "2 5 8 \n",
      "3 6 9 \n"
     ]
    }
   ],
   "source": [
    "#Write a Python Program to Transpose a Matrix?\n",
    "matrix = [] \n",
    "row = int(input(\"Enter number of rows: \"))\n",
    "column = int(input(\"Enter number of columns: \"))\n",
    "for i in range(row):\n",
    "    matrix.append([])\n",
    "\n",
    "    for j in range(column):\n",
    "        num = int(input(\"Enter the element: \"))\n",
    "        matrix[i].append(num)\n",
    "\n",
    "\n",
    "print(\"Input matrix: \")\n",
    "for i in range (row):\n",
    "    for j in range (column):\n",
    "        print(matrix[i][j], end = \" \")\n",
    "    print()\n",
    "\n",
    "\n",
    "transpose = []\n",
    "for j in range(column):\n",
    "    transpose.append([])\n",
    "    for i in range (row):\n",
    "            t_num = matrix[i][j]\n",
    "            transpose[j].append(t_num)\n",
    "\n",
    "\n",
    "print('Transpose matrix: ')\n",
    "for i in range (row):\n",
    "        for j in range (column):\n",
    "            print (transpose[i][j], end = ' ')\n",
    "        print()        "
   ]
  },
  {
   "cell_type": "code",
   "execution_count": 19,
   "id": "63f5cdc2",
   "metadata": {},
   "outputs": [
    {
     "name": "stdout",
     "output_type": "stream",
     "text": [
      "\n",
      "enter a stirng : my name is nilaya jaiswa;\\l\n",
      "['my', 'name', 'is', 'nilaya', 'jaiswa;\\\\l']\n"
     ]
    },
    {
     "ename": "TypeError",
     "evalue": "'NoneType' object is not iterable",
     "output_type": "error",
     "traceback": [
      "\u001b[1;31m---------------------------------------------------------------------------\u001b[0m",
      "\u001b[1;31mTypeError\u001b[0m                                 Traceback (most recent call last)",
      "\u001b[1;32m<ipython-input-19-4e486e64b3c2>\u001b[0m in \u001b[0;36m<module>\u001b[1;34m\u001b[0m\n\u001b[0;32m      4\u001b[0m \u001b[0mprint\u001b[0m\u001b[1;33m(\u001b[0m\u001b[0mb\u001b[0m\u001b[1;33m)\u001b[0m\u001b[1;33m\u001b[0m\u001b[1;33m\u001b[0m\u001b[0m\n\u001b[0;32m      5\u001b[0m \u001b[0mc\u001b[0m \u001b[1;33m=\u001b[0m \u001b[0mb\u001b[0m\u001b[1;33m.\u001b[0m\u001b[0msort\u001b[0m\u001b[1;33m(\u001b[0m\u001b[1;33m)\u001b[0m\u001b[1;33m\u001b[0m\u001b[1;33m\u001b[0m\u001b[0m\n\u001b[1;32m----> 6\u001b[1;33m \u001b[1;32mfor\u001b[0m \u001b[0mi\u001b[0m \u001b[1;32min\u001b[0m \u001b[0mc\u001b[0m\u001b[1;33m:\u001b[0m\u001b[1;33m\u001b[0m\u001b[1;33m\u001b[0m\u001b[0m\n\u001b[0m\u001b[0;32m      7\u001b[0m \u001b[1;33m\u001b[0m\u001b[0m\n\u001b[0;32m      8\u001b[0m     \u001b[0mprint\u001b[0m\u001b[1;33m(\u001b[0m\u001b[0mc\u001b[0m\u001b[1;33m)\u001b[0m\u001b[1;33m\u001b[0m\u001b[1;33m\u001b[0m\u001b[0m\n",
      "\u001b[1;31mTypeError\u001b[0m: 'NoneType' object is not iterable"
     ]
    }
   ],
   "source": [
    "#Write a Python Program to Sort Words in Alphabetic Order?\n",
    "a = input(\"\\nenter a string : \")\n",
    "b = a.split()\n",
    "print(b)\n",
    "c = b.sort()\n",
    "for i in c:\n",
    "    \n",
    "    print(c)"
   ]
  },
  {
   "cell_type": "code",
   "execution_count": 27,
   "id": "3d9e4726",
   "metadata": {},
   "outputs": [
    {
     "name": "stdout",
     "output_type": "stream",
     "text": [
      "\n",
      "enter a string : my name is nilaya jaiswal\n",
      "['my', 'name', 'is', 'nilaya', 'jaiswal']\n",
      "['is', 'jaiswal', 'my', 'name', 'nilaya']\n"
     ]
    }
   ],
   "source": [
    "#Write a Python Program to Sort Words in Alphabetic Order?\n",
    "b = a.split()\n",
    "a = input(\"\\nenter a string : \")\n",
    "b = a.split()\n",
    "print(b)\n",
    "c = sorted(b)\n",
    "print(c)\n"
   ]
  },
  {
   "cell_type": "code",
   "execution_count": 34,
   "id": "f7133598",
   "metadata": {},
   "outputs": [
    {
     "name": "stdout",
     "output_type": "stream",
     "text": [
      "enter a string: hello@world.my name is ---- nilaya ;jaiswal\n",
      "helloworldmy name is  nilaya jaiswal\n"
     ]
    }
   ],
   "source": [
    "#Write a Python Program to Remove Punctuation From a String?\n",
    "punctuations = '''!()-[]{};:'\"\\,<>./?@#$%^&*_~'''\n",
    "my_str = input(\"enter a string: \")\n",
    "no_punct =\"\"\n",
    "for char in my_str:\n",
    "    if char not in punctuations:\n",
    "        no_punct = no_punct+char\n",
    "print(no_punct)"
   ]
  },
  {
   "cell_type": "code",
   "execution_count": null,
   "id": "8f051189",
   "metadata": {},
   "outputs": [],
   "source": []
  }
 ],
 "metadata": {
  "kernelspec": {
   "display_name": "Python 3",
   "language": "python",
   "name": "python3"
  },
  "language_info": {
   "codemirror_mode": {
    "name": "ipython",
    "version": 3
   },
   "file_extension": ".py",
   "mimetype": "text/x-python",
   "name": "python",
   "nbconvert_exporter": "python",
   "pygments_lexer": "ipython3",
   "version": "3.8.8"
  }
 },
 "nbformat": 4,
 "nbformat_minor": 5
}
